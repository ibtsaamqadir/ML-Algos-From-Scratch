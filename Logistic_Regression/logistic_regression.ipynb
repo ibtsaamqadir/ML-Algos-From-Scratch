{
 "cells": [
  {
   "cell_type": "markdown",
   "id": "ff613a7a-0456-4214-8c0e-cd1d200c1fcd",
   "metadata": {},
   "source": [
    "# Logistic Regression"
   ]
  },
  {
   "cell_type": "code",
   "execution_count": 1,
   "id": "440c83e9-691e-429b-842c-e5108706534c",
   "metadata": {},
   "outputs": [],
   "source": [
    "import numpy as np\n",
    "import matplotlib.pyplot as plt\n",
    "import math"
   ]
  },
  {
   "cell_type": "code",
   "execution_count": 2,
   "id": "143a4eff-ca89-4748-81bc-6a52403daf1a",
   "metadata": {},
   "outputs": [],
   "source": [
    "data = np.loadtxt('./data.txt', delimiter = ',')"
   ]
  },
  {
   "cell_type": "code",
   "execution_count": 3,
   "id": "6ef8d253-1a67-424d-b693-f76d5b044c8d",
   "metadata": {},
   "outputs": [],
   "source": [
    "x_train, y_train = data[:,:2], data[:,-1]"
   ]
  },
  {
   "cell_type": "code",
   "execution_count": 4,
   "id": "43f35aa0-dbf1-448d-9ca0-c54890ae512b",
   "metadata": {},
   "outputs": [
    {
     "data": {
      "image/png": "[encoded data removed]",
      "text/plain": [
       "<Figure size 640x480 with 1 Axes>"
      ]
     },
     "metadata": {},
     "output_type": "display_data"
    }
   ],
   "source": [
    "for i in range(len(y_train)):\n",
    "    if y_train[i] == 1:\n",
    "        plt.scatter(x_train[i,0], x_train[i,1], marker = 'x', color = 'black')\n",
    "    elif y_train[i] == 0:\n",
    "        plt.scatter(x_train[i,0], x_train[i,1], marker = '+', color = 'orange')\n",
    "plt.xlabel('Score 1')\n",
    "plt.ylabel('Score 2') \n",
    "plt.show()"
   ]
  },
  {
   "cell_type": "code",
   "execution_count": 5,
   "id": "ec8a8edb-99a1-4f59-a0e7-9727a6ada86e",
   "metadata": {},
   "outputs": [
    {
     "name": "stdout",
     "output_type": "stream",
     "text": [
      "sigmoid([ -1, 0, 1, 2]) = [0.26894142 0.5        0.73105858 0.88079708]\n"
     ]
    }
   ],
   "source": [
    "def sigmoid(z):\n",
    "    result = 1/(1+np.exp(-z))\n",
    "    \n",
    "    return result\n",
    "\n",
    "print (\"sigmoid([ -1, 0, 1, 2]) = \" + str(sigmoid(np.array([-1, 0, 1, 2]))))"
   ]
  },
  {
   "cell_type": "markdown",
   "id": "d68c92e5-c84a-4336-a941-165d5c010bf5",
   "metadata": {},
   "source": [
    "### Defining the cost function "
   ]
  },
  {
   "cell_type": "code",
   "execution_count": 6,
   "id": "8b97a633-d6c5-4df0-9fd2-c2e87e87a66f",
   "metadata": {},
   "outputs": [],
   "source": [
    "def computeCost(X, y, w, b, lambda_= 1):\n",
    "    m, n = X.shape\n",
    "    J = 0 \n",
    "    for i in range(m):                   #training example\n",
    "        z_wb = 0 \n",
    "        for j in range(n):               #features\n",
    "             z_wb_ij =  w[j]*X[i][j]\n",
    "             z_wb += z_wb_ij             # z_wb = z_wb + z_wb_ij\n",
    "        z_wb += b                        # z_wb = z_wb + b\n",
    "        f_wb = sigmoid(z_wb)\n",
    "        J += (-y[i] * np.log(f_wb) - (1 - y[i]) * np.log(1 - f_wb)) #log loss \n",
    "    total_cost = (1 / m) * J\n",
    "\n",
    "    return total_cost"
   ]
  },
  {
   "cell_type": "code",
   "execution_count": 7,
   "id": "2c767cb1-6fee-4836-b1db-13e1c3faa6c4",
   "metadata": {},
   "outputs": [
    {
     "name": "stdout",
     "output_type": "stream",
     "text": [
      "Cost at initial parameters set to 0: 0.693147180559946\n"
     ]
    }
   ],
   "source": [
    "m, n = x_train.shape\n",
    "init_w = np.zeros(n)\n",
    "init_b = 0.\n",
    "cost = computeCost(x_train, y_train, init_w, init_b)\n",
    "print('Cost at initial parameters set to 0:', cost)"
   ]
  },
  {
   "cell_type": "markdown",
   "id": "203938d6-bd97-4650-8120-0f5601a60507",
   "metadata": {},
   "source": [
    "### Defining the gradient descent"
   ]
  },
  {
   "cell_type": "code",
   "execution_count": 8,
   "id": "086e2d79-2b36-4ff9-aee5-394376a7047f",
   "metadata": {},
   "outputs": [],
   "source": [
    "def compute_gradient(X, y, w, b, lambda_=None): \n",
    "    m, n = X.shape\n",
    "    dj_dw = np.zeros(w.shape)\n",
    "    dj_db = 0.\n",
    "\n",
    "    for i in range(m):\n",
    "        z_wb = 0\n",
    "        for j in range(n): \n",
    "            z_wb_ij = X[i, j] * w[j]\n",
    "            z_wb += z_wb_ij\n",
    "        z_wb += b\n",
    "        f_wb = sigmoid(z_wb)\n",
    "        dj_db_i = f_wb - y[i]\n",
    "        dj_db += dj_db_i\n",
    "        \n",
    "        for j in range(n):\n",
    "            dj_dw_ij = (f_wb - y[i])* X[i][j] \n",
    "            dj_dw[j] += dj_dw_ij \n",
    "            \n",
    "    dj_dw = dj_dw / m\n",
    "    dj_db = dj_db / m\n",
    "        \n",
    "    return dj_db, dj_dw"
   ]
  },
  {
   "cell_type": "code",
   "execution_count": 9,
   "id": "3c260477-2c51-47bb-b1e7-297651bf5e4d",
   "metadata": {},
   "outputs": [
    {
     "name": "stdout",
     "output_type": "stream",
     "text": [
      "dj_db at initial w (zeros):-0.1\n",
      "dj_dw at initial w (zeros):[-12.00921658929115, -11.262842205513591]\n"
     ]
    }
   ],
   "source": [
    "init_w = np.zeros(n)\n",
    "init_b = 0.\n",
    "\n",
    "dj_db, dj_dw = compute_gradient(x_train, y_train, init_w, init_b)\n",
    "print(f'dj_db at initial w (zeros):{dj_db}' )\n",
    "print(f'dj_dw at initial w (zeros):{dj_dw.tolist()}' )"
   ]
  },
  {
   "cell_type": "markdown",
   "id": "7e356806-cd8b-4b01-8404-aeeac831261f",
   "metadata": {},
   "source": [
    "### Learning Parameters"
   ]
  },
  {
   "cell_type": "code",
   "execution_count": 10,
   "id": "8180a178-c4e1-4d9e-970c-4eb5310153ee",
   "metadata": {},
   "outputs": [],
   "source": [
    "def gradient_descent(X, y, w_in, b_in, cost_function, gradient_function, alpha, num_iters, lambda_): \n",
    "    m = len(X)\n",
    "    J_history = []\n",
    "    w_history = []\n",
    "    \n",
    "    for i in range(num_iters):\n",
    "        dj_db, dj_dw = gradient_function(X, y, w_in, b_in, lambda_)\n",
    "        w_in = w_in - alpha * dj_dw               \n",
    "        b_in = b_in - alpha * dj_db              \n",
    "       \n",
    "        # Save cost J at each iteration\n",
    "        if i<100000:      # prevent resource exhaustion \n",
    "            cost =  cost_function(X, y, w_in, b_in, lambda_)\n",
    "            J_history.append(cost)\n",
    "\n",
    "    return w_in, b_in, J_history"
   ]
  },
  {
   "cell_type": "code",
   "execution_count": 12,
   "id": "20436d24-5815-463b-865f-1b2289431612",
   "metadata": {},
   "outputs": [],
   "source": [
    "np.random.seed(1)\n",
    "init_w = 0.01 * (np.random.rand(2).reshape(-1,1) - 0.5)\n",
    "init_b = -8\n",
    "\n",
    "iterations = 10000\n",
    "alpha = 0.001\n",
    "\n",
    "w,b, J_history = gradient_descent(x_train ,y_train, init_w, init_b, \n",
    "                                   computeCost, compute_gradient, alpha, iterations, 0)"
   ]
  },
  {
   "cell_type": "code",
   "execution_count": 13,
   "id": "bd113f04-051f-44a4-8d51-dd7f592bd23d",
   "metadata": {},
   "outputs": [
    {
     "name": "stdout",
     "output_type": "stream",
     "text": [
      "[[0.07125355]\n",
      " [0.06482888]]\n"
     ]
    }
   ],
   "source": [
    "print(w)"
   ]
  },
  {
   "cell_type": "code",
   "execution_count": 14,
   "id": "c1c567d1-58c5-40ef-8ccb-c52e3da478ab",
   "metadata": {},
   "outputs": [],
   "source": [
    "yy = (w[0] * x_train[:, 0] + w[1] * x_train[:, 1] + b > 0).astype(int)\n",
    "def decision_boundary(x, w, b):\n",
    "    return - (w[0] * x + b) / w[1]"
   ]
  },
  {
   "cell_type": "code",
   "execution_count": 15,
   "id": "5ace83d5-9b32-40d8-b738-ead2d08fd135",
   "metadata": {},
   "outputs": [],
   "source": [
    "x_values = np.linspace(20, 100)\n",
    "y_values = decision_boundary(x_values, w,  b)"
   ]
  },
  {
   "cell_type": "code",
   "execution_count": 16,
   "id": "4e6228cd-1372-41d1-8135-df6cefa4dc99",
   "metadata": {},
   "outputs": [
    {
     "data": {
      "image/png": "[encoded data removed]",
      "text/plain": [
       "<Figure size 640x480 with 1 Axes>"
      ]
     },
     "metadata": {},
     "output_type": "display_data"
    }
   ],
   "source": [
    "for i in range(len(y_train)):\n",
    "    if y_train[i] == 1:\n",
    "        plt.scatter(x_train[i,0], x_train[i,1], marker = 'x', color = 'black')\n",
    "    elif y_train[i] == 0:\n",
    "        plt.scatter(x_train[i,0], x_train[i,1], marker = '+', color = 'orange')\n",
    "plt.plot(x_values, y_values)\n",
    "plt.xlabel('Score 1')\n",
    "plt.ylabel('Score 2') \n",
    "plt.show()"
   ]
  },
  {
   "cell_type": "markdown",
   "id": "e66d49d7-d473-42d5-b37b-078de296d5e8",
   "metadata": {},
   "source": [
    "### Predicting"
   ]
  },
  {
   "cell_type": "code",
   "execution_count": 17,
   "id": "669b7a23-ecd8-4e12-8e1d-601beb79447e",
   "metadata": {},
   "outputs": [],
   "source": [
    "def predict(X, w, b): \n",
    "    m, n = X.shape   \n",
    "    p = np.zeros(m)\n",
    "    for i in range(m):   \n",
    "        z_wb = 0\n",
    "        for j in range(n): \n",
    "            z_wb_ij = X[i, j] * w[j]\n",
    "            z_wb += z_wb_ij\n",
    "        z_wb += b\n",
    "        \n",
    "        f_wb = sigmoid(z_wb)\n",
    "        p[i] = f_wb >= 0.5\n",
    "    return p"
   ]
  },
  {
   "cell_type": "code",
   "execution_count": 22,
   "id": "989081bc-f3bf-4ee8-b3ff-b6ffb0665632",
   "metadata": {},
   "outputs": [
    {
     "name": "stdout",
     "output_type": "stream",
     "text": [
      "Train Accuracy:  92.0\n"
     ]
    }
   ],
   "source": [
    "p = predict(x_train, w,b)\n",
    "print('Train Accuracy: ',(np.mean(p == y_train) * 100))"
   ]
  },
  {
   "cell_type": "code",
   "execution_count": null,
   "id": "36f6be30-7f27-4e17-aace-e5c3e2c12176",
   "metadata": {},
   "outputs": [],
   "source": []
  }
 ],
 "metadata": {
  "kernelspec": {
   "display_name": "Python 3 (ipykernel)",
   "language": "python",
   "name": "python3"
  },
  "language_info": {
   "codemirror_mode": {
    "name": "ipython",
    "version": 3
   },
   "file_extension": ".py",
   "mimetype": "text/x-python",
   "name": "python",
   "nbconvert_exporter": "python",
   "pygments_lexer": "ipython3",
   "version": "3.9.19"
  }
 },
 "nbformat": 4,
 "nbformat_minor": 5
}
